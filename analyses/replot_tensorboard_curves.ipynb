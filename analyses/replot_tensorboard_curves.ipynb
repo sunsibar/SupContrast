{
 "cells": [
  {
   "cell_type": "code",
   "execution_count": 2,
   "metadata": {},
   "outputs": [],
   "source": [
    "import torch\n",
    "import tensorboard \n",
    "import os\n"
   ]
  },
  {
   "cell_type": "code",
   "execution_count": null,
   "metadata": {},
   "outputs": [],
   "source": [
    "data_dir = \"./train_curve_data/\"\n",
    "data_files = os.listdir(data_dir)\n",
    "\n",
    "for file in data_files:\n",
    "    print(file)"
   ]
  },
  {
   "cell_type": "code",
   "execution_count": 24,
   "metadata": {},
   "outputs": [
    {
     "data": {
      "image/png": "[encoded data removed]",
      "text/plain": [
       "<Figure size 600x600 with 1 Axes>"
      ]
     },
     "metadata": {},
     "output_type": "display_data"
    },
    {
     "name": "stdout",
     "output_type": "stream",
     "text": [
      "Total steps: 4000\n",
      "Initial loss: 45.4680\n",
      "Final loss: 46.7965\n"
     ]
    }
   ],
   "source": [
    "import pandas as pd\n",
    "import matplotlib.pyplot as plt\n",
    "import glob\n",
    "import os\n",
    "import numpy as np\n",
    "\n",
    "# Get all CSV files with resnet34 in the name\n",
    "csv_files = glob.glob('train_curve_data/*resnet34*.csv')\n",
    "csv_files = [f for f in csv_files if '(1)' in f]\n",
    "\n",
    "# Function to extract learning rate from filename\n",
    "def get_lr_from_filename(filename):\n",
    "    parts = filename.split('_')\n",
    "    lr_idx = parts.index('lr') + 1\n",
    "    return float(parts[lr_idx])\n",
    "\n",
    "# Sort files by learning rate\n",
    "csv_files.sort(key=get_lr_from_filename, reverse=False)\n",
    "\n",
    "# Initialize lists to store concatenated data\n",
    "all_steps = []\n",
    "all_losses = []\n",
    "all_lrs = []\n",
    "current_step_offset = 0\n",
    "min_step = float('-inf')\n",
    "max_step = float('-inf')\n",
    "\n",
    "dfs = []\n",
    "for file in csv_files:\n",
    "    df = pd.read_csv(file)\n",
    "    is_before = False\n",
    "    # Check which column contains the loss data\n",
    "    loss_col = 'loss' if 'loss' in df.columns else 'Value'\n",
    "    \n",
    "    # Sort by step\n",
    "    df = df.sort_values('Step')\n",
    "    # print(df.describe())\n",
    "    \n",
    "    # detect if the range of steps is overlapping \n",
    "    # . with the already covered range, if so drop\n",
    "    # . whats overlapping\n",
    "    if min_step == float('-inf'):\n",
    "        # First file\n",
    "        dfs.append(df)\n",
    "        min_step = min(df['Step'])\n",
    "        max_step = max(df['Step'])\n",
    "    else:\n",
    "        # Check overlap\n",
    "        curr_min = min(df['Step'])\n",
    "        curr_max = max(df['Step'])\n",
    "        \n",
    "        if curr_min > max_step:\n",
    "            # No overlap, this data comes after\n",
    "            dfs.append(df)\n",
    "            max_step = curr_max\n",
    "        elif curr_max < min_step:\n",
    "            # No overlap, this data comes before\n",
    "            dfs.insert(0, df)\n",
    "            min_step = curr_min\n",
    "        else:\n",
    "            # There is overlap\n",
    "            if curr_min < min_step:\n",
    "                # Keep data before min_step\n",
    "                dfs.insert(0, df[df['Step'] < min_step])\n",
    "                min_step = curr_min\n",
    "            if curr_max > max_step:\n",
    "                # Keep data after max_step\n",
    "                dfs.append(df[df['Step'] > max_step])\n",
    "                max_step = curr_max\n",
    "    # if min_step > max(df[\"Step\"]) or max_step < min(df[\"Step\"]):\n",
    "    #    if (not np.isinf(min_step)) and (min_step > max(df[\"Step\"])):\n",
    "    #        is_before = True\n",
    "    # else:\n",
    "    #    if min_step > min(df[\"Step\"]):\n",
    "    #        # cut off top end\n",
    "    #        df = df[df[\"Step\"] < min_step]\n",
    "    #        is_before = True\n",
    "    #    if max_step < max(df[\"Step\"]):\n",
    "    #        # cut off bottom end\n",
    "    #        df = df[df[\"Step\"] > max_step] \n",
    "    # print(df.describe())\n",
    "    # # dfs.append(df)\n",
    "    #  # current_step_offset = max(all_steps) + 1\n",
    "    # min_step = min(min_step, min(df['Step']))\n",
    "    # max_step = max(max_step, max(df['Step']))\n",
    "    \n",
    "    # steps = df['Step'] + current_step_offset\n",
    "    \n",
    "    # Store data\n",
    "    if is_before:\n",
    "        all_steps = df['Step'].tolist() + all_steps\n",
    "        all_losses = df[loss_col].tolist() + all_losses\n",
    "    else:\n",
    "        all_steps.extend(df['Step'].tolist())\n",
    "        all_losses.extend(df[loss_col].tolist())\n",
    "\n",
    "df_concat = pd.concat(dfs) \n",
    "df_concat = df_concat.sort_values('Step')\n",
    "\n",
    "import seaborn as sns\n",
    "\n",
    "# Create figure with two subplots\n",
    "fig, (ax1) = plt.subplots(1, 1, figsize=(6, 6))\n",
    "# fig, (ax1, ax2) = plt.subplots(1, 1, figsize=(6, 6))\n",
    "\n",
    "# Plot loss\n",
    "sns.lineplot(x='Step', y='Value', data=df_concat, ax=ax1)\n",
    "\n",
    "# ax1.plot(all_steps, all_losses, label='Training Loss')\n",
    "ax1.set_xlabel('Steps')\n",
    "ax1.set_ylabel('Loss')\n",
    "ax1.set_title('Training Loss vs Steps')\n",
    "ax1.grid(True)\n",
    "\n",
    "# Plot learning rate if available\n",
    "# if len(all_lrs) > 0:\n",
    "#     ax2.scatter(all_steps, all_lrs, label='Learning Rate')\n",
    "#     ax2.set_xlabel('Steps')\n",
    "#     ax2.set_ylabel('Learning Rate')\n",
    "#     ax2.set_title('Learning Rate vs Steps')\n",
    "#     ax2.grid(True)\n",
    "\n",
    "plt.tight_layout()\n",
    "plt.show()\n",
    "\n",
    "\n",
    "# plt.show()\n",
    "# Print some statistics\n",
    "print(f\"Total steps: {len(all_steps)}\")\n",
    "print(f\"Initial loss: {all_losses[0]:.4f}\")\n",
    "print(f\"Final loss: {all_losses[-1]:.4f}\")"
   ]
  },
  {
   "cell_type": "code",
   "execution_count": 15,
   "metadata": {},
   "outputs": [
    {
     "data": {
      "text/plain": [
       "[Index(['Wall time', 'Step', 'Value'], dtype='object'),\n",
       " Index(['Wall time', 'Step', 'Value'], dtype='object'),\n",
       " Index(['Wall time', 'Step', 'Value'], dtype='object'),\n",
       " Index(['Wall time', 'Step', 'Value'], dtype='object'),\n",
       " Index(['Wall time', 'Step', 'Value'], dtype='object')]"
      ]
     },
     "execution_count": 15,
     "metadata": {},
     "output_type": "execute_result"
    }
   ],
   "source": [
    "[df_.columns for df_ in dfs]"
   ]
  },
  {
   "cell_type": "code",
   "execution_count": 5,
   "metadata": {},
   "outputs": [
    {
     "data": {
      "text/plain": [
       "('train_curve_data/SimCLR_cifar100_resnet34_lr_0.0002_decay_0.0001_bsz_2048_temp_0.5_trial_0_cosine_warm.csv',\n",
       "         Wall time  Step      Value\n",
       " 0    1.733053e+09  4506  45.468014\n",
       " 1    1.733053e+09  4507  45.467403\n",
       " 2    1.733053e+09  4512  45.469574\n",
       " 3    1.733053e+09  4515  45.468151\n",
       " 4    1.733053e+09  4516  45.477741\n",
       " ..            ...   ...        ...\n",
       " 995  1.733120e+09  7480  45.457317\n",
       " 996  1.733121e+09  7489  45.452698\n",
       " 997  1.733121e+09  7495  45.457699\n",
       " 998  1.733121e+09  7499  45.452686\n",
       " 999  1.733121e+09  7500  45.464085\n",
       " \n",
       " [1000 rows x 3 columns])"
      ]
     },
     "execution_count": 5,
     "metadata": {},
     "output_type": "execute_result"
    }
   ],
   "source": [
    "file, df aa"
   ]
  },
  {
   "cell_type": "code",
   "execution_count": null,
   "metadata": {},
   "outputs": [],
   "source": []
  }
 ],
 "metadata": {
  "kernelspec": {
   "display_name": "Python 3",
   "language": "python",
   "name": "python3"
  },
  "language_info": {
   "codemirror_mode": {
    "name": "ipython",
    "version": 3
   },
   "file_extension": ".py",
   "mimetype": "text/x-python",
   "name": "python",
   "nbconvert_exporter": "python",
   "pygments_lexer": "ipython3",
   "version": "3.10.12"
  }
 },
 "nbformat": 4,
 "nbformat_minor": 2
}
